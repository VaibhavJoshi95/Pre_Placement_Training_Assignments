{
 "cells": [
  {
   "cell_type": "markdown",
   "id": "2e86ef42",
   "metadata": {},
   "source": [
    " **Question 1**\n",
    "\n",
    "Given an integer `n`, return *`true` if it is a power of two. Otherwise, return `false`*.\n",
    "\n",
    "An integer `n` is a power of two, if there exists an integer `x` such that `n == 2x`.\n",
    "\n",
    "**Example 1:**\n",
    "Input: n = 1 \n",
    "\n",
    "Output: true\n",
    "\n",
    "**Example 2:**\n",
    "Input: n = 16 \n",
    "\n",
    "Output: true\n",
    "\n",
    "**Example 3:**\n",
    "Input: n = 3 \n",
    "\n",
    "Output: false\n"
   ]
  },
  {
   "cell_type": "code",
   "execution_count": 5,
   "id": "a8fe023e",
   "metadata": {},
   "outputs": [],
   "source": [
    "def isPowerOfTwo(n):\n",
    "    if n <= 0:\n",
    "        return False\n",
    "    return n & (n - 1) == 0\n"
   ]
  },
  {
   "cell_type": "code",
   "execution_count": 6,
   "id": "b3eaf732",
   "metadata": {},
   "outputs": [
    {
     "name": "stdout",
     "output_type": "stream",
     "text": [
      "True\n"
     ]
    }
   ],
   "source": [
    "n = 1\n",
    "result = isPowerOfTwo(n)\n",
    "print(result)"
   ]
  },
  {
   "cell_type": "code",
   "execution_count": 7,
   "id": "9e4fe7a6",
   "metadata": {},
   "outputs": [
    {
     "name": "stdout",
     "output_type": "stream",
     "text": [
      "True\n"
     ]
    }
   ],
   "source": [
    "n = 16\n",
    "result = isPowerOfTwo(n)\n",
    "print(result)\n"
   ]
  },
  {
   "cell_type": "code",
   "execution_count": 8,
   "id": "8e5a2f05",
   "metadata": {},
   "outputs": [
    {
     "name": "stdout",
     "output_type": "stream",
     "text": [
      "False\n"
     ]
    }
   ],
   "source": [
    "n = 3\n",
    "result = isPowerOfTwo(n)\n",
    "print(result)"
   ]
  },
  {
   "cell_type": "markdown",
   "id": "0b54d22c",
   "metadata": {},
   "source": [
    " **Question 2**\n",
    "\n",
    "Given a number n, find the sum of the first natural numbers.\n",
    "\n",
    "**Example 1:**\n",
    "\n",
    "Input: n = 3 \n",
    "\n",
    "Output: 6\n",
    "\n",
    "**Example 2:**\n",
    "\n",
    "Input  : 5 \n",
    "\n",
    "Output : 15\n"
   ]
  },
  {
   "cell_type": "code",
   "execution_count": 14,
   "id": "49bbdae2",
   "metadata": {},
   "outputs": [],
   "source": [
    "def sumOfFirstN(n):\n",
    "    return (n * (n + 1)) // 2\n"
   ]
  },
  {
   "cell_type": "code",
   "execution_count": 15,
   "id": "33dcc168",
   "metadata": {},
   "outputs": [
    {
     "name": "stdout",
     "output_type": "stream",
     "text": [
      "6\n"
     ]
    }
   ],
   "source": [
    "n = 3\n",
    "result = sumOfFirstN(n)\n",
    "print(result)"
   ]
  },
  {
   "cell_type": "code",
   "execution_count": 16,
   "id": "c3696af8",
   "metadata": {},
   "outputs": [
    {
     "name": "stdout",
     "output_type": "stream",
     "text": [
      "15\n"
     ]
    }
   ],
   "source": [
    "n = 5\n",
    "result = sumOfFirstN(n)\n",
    "print(result)"
   ]
  },
  {
   "cell_type": "markdown",
   "id": "b9970851",
   "metadata": {},
   "source": [
    " **Question 3**\n",
    "\n",
    "Given a positive integer, N. Find the factorial of N. \n",
    "\n",
    "**Example 1:**\n",
    "\n",
    "Input: N = 5 \n",
    "\n",
    "Output: 120\n",
    "\n",
    "**Example 2:**\n",
    "\n",
    "Input: N = 4\n",
    "\n",
    "Output: 24\n"
   ]
  },
  {
   "cell_type": "code",
   "execution_count": 17,
   "id": "53c6fef9",
   "metadata": {},
   "outputs": [],
   "source": [
    "def factorial(N):\n",
    "    factorial = 1\n",
    "\n",
    "    for i in range(1, N + 1):\n",
    "        factorial *= i\n",
    "\n",
    "    return factorial\n"
   ]
  },
  {
   "cell_type": "code",
   "execution_count": 18,
   "id": "8af5723f",
   "metadata": {},
   "outputs": [
    {
     "name": "stdout",
     "output_type": "stream",
     "text": [
      "120\n"
     ]
    }
   ],
   "source": [
    "N = 5\n",
    "result = factorial(N)\n",
    "print(result)"
   ]
  },
  {
   "cell_type": "code",
   "execution_count": 19,
   "id": "34fb0889",
   "metadata": {},
   "outputs": [
    {
     "name": "stdout",
     "output_type": "stream",
     "text": [
      "24\n"
     ]
    }
   ],
   "source": [
    "N = 4\n",
    "result = factorial(N)\n",
    "print(result)"
   ]
  },
  {
   "cell_type": "markdown",
   "id": "e822a3ff",
   "metadata": {},
   "source": [
    " **Question 4**\n",
    "\n",
    "Given a number N and a power P, the task is to find the exponent of this number raised to the given power, i.e. N^P.\n",
    "\n",
    "**Example 1 :** \n",
    "\n",
    "Input: N = 5, P = 2\n",
    "\n",
    "Output: 25\n",
    "\n",
    "**Example 2 :**\n",
    "Input: N = 2, P = 5\n",
    "\n",
    "Output: 32\n"
   ]
  },
  {
   "cell_type": "code",
   "execution_count": 26,
   "id": "49e89baa",
   "metadata": {},
   "outputs": [],
   "source": [
    "def calculateExponent(N, P):\n",
    "    result = N ** P\n",
    "    return result\n"
   ]
  },
  {
   "cell_type": "code",
   "execution_count": 27,
   "id": "c1e88180",
   "metadata": {},
   "outputs": [
    {
     "name": "stdout",
     "output_type": "stream",
     "text": [
      "25\n"
     ]
    }
   ],
   "source": [
    "N = 5\n",
    "P = 2\n",
    "result = calculateExponent(N, P)\n",
    "print(result)\n"
   ]
  },
  {
   "cell_type": "code",
   "execution_count": 28,
   "id": "c023d101",
   "metadata": {},
   "outputs": [
    {
     "name": "stdout",
     "output_type": "stream",
     "text": [
      "32\n"
     ]
    }
   ],
   "source": [
    "N = 2\n",
    "P = 5\n",
    "result = calculateExponent(N, P)\n",
    "print(result)"
   ]
  },
  {
   "cell_type": "markdown",
   "id": "9eed00e7",
   "metadata": {},
   "source": [
    " **Question 5**\n",
    "\n",
    "Given an array of integers **arr**, the task is to find maximum element of that array using recursion.\n",
    "\n",
    "**Example 1:**\n",
    "\n",
    "Input: arr = {1, 4, 3, -5, -4, 8, 6};\n",
    "Output: 8\n",
    "\n",
    "**Example 2:**\n",
    "\n",
    "Input: arr = {1, 4, 45, 6, 10, -8};\n",
    "Output: 45\n"
   ]
  },
  {
   "cell_type": "code",
   "execution_count": 33,
   "id": "e54473b2",
   "metadata": {},
   "outputs": [],
   "source": [
    "def findMax(arr, start, end):\n",
    "    if start == end:\n",
    "        return arr[start]\n",
    "\n",
    "    mid = (start + end) // 2\n",
    "    leftMax = findMax(arr, start, mid)\n",
    "    rightMax = findMax(arr, mid + 1, end)\n",
    "\n",
    "    return max(leftMax, rightMax)\n"
   ]
  },
  {
   "cell_type": "code",
   "execution_count": 34,
   "id": "a80c3512",
   "metadata": {},
   "outputs": [
    {
     "name": "stdout",
     "output_type": "stream",
     "text": [
      "8\n"
     ]
    }
   ],
   "source": [
    "arr = [1, 4, 3, -5, -4, 8, 6]\n",
    "result = findMax(arr, 0, len(arr) - 1)\n",
    "print(result)"
   ]
  },
  {
   "cell_type": "code",
   "execution_count": 35,
   "id": "b81ee8dd",
   "metadata": {},
   "outputs": [
    {
     "name": "stdout",
     "output_type": "stream",
     "text": [
      "45\n"
     ]
    }
   ],
   "source": [
    "arr = [1, 4, 45, 6, 10, -8]\n",
    "result = findMax(arr, 0, len(arr) - 1)\n",
    "print(result) "
   ]
  },
  {
   "cell_type": "markdown",
   "id": "245211ed",
   "metadata": {},
   "source": [
    " **Question 6**\n",
    "\n",
    "Given first term (a), common difference (d) and a integer N of the Arithmetic Progression series, the task is to find Nth term of the series.\n",
    "\n",
    "**Example 1:**\n",
    "\n",
    "Input : a = 2 d = 1 N = 5\n",
    "Output : 6\n",
    "The 5th term of the series is : 6\n",
    "\n",
    "**Example 2:**\n",
    "\n",
    "Input : a = 5 d = 2 N = 10\n",
    "Output : 23\n",
    "The 10th term of the series is : 23\n"
   ]
  },
  {
   "cell_type": "code",
   "execution_count": 39,
   "id": "aff6aa13",
   "metadata": {},
   "outputs": [],
   "source": [
    "def findNthTerm(a, d, N):\n",
    "    NthTerm = a + (N - 1) * d\n",
    "    return NthTerm\n"
   ]
  },
  {
   "cell_type": "code",
   "execution_count": 40,
   "id": "5c14139a",
   "metadata": {},
   "outputs": [
    {
     "name": "stdout",
     "output_type": "stream",
     "text": [
      "6\n"
     ]
    }
   ],
   "source": [
    "a = 2\n",
    "d = 1\n",
    "N = 5\n",
    "result = findNthTerm(a, d, N)\n",
    "print(result) "
   ]
  },
  {
   "cell_type": "code",
   "execution_count": 41,
   "id": "b35bd8dd",
   "metadata": {},
   "outputs": [
    {
     "name": "stdout",
     "output_type": "stream",
     "text": [
      "23\n"
     ]
    }
   ],
   "source": [
    "a = 5\n",
    "d = 2\n",
    "N = 10\n",
    "result = findNthTerm(a, d, N)\n",
    "print(result)"
   ]
  },
  {
   "cell_type": "markdown",
   "id": "6cfe18fa",
   "metadata": {},
   "source": [
    " **Question 7**\n",
    "\n",
    "Given a string S, the task is to write a program to print all permutations of a given string.\n",
    "\n",
    "**Example 1:**\n",
    "\n",
    "***Input:***\n",
    "\n",
    "*S = “ABC”*\n",
    "\n",
    "***Output:***\n",
    "\n",
    "*“ABC”, “ACB”, “BAC”, “BCA”, “CBA”, “CAB”*\n",
    "\n",
    "**Example 2:**\n",
    "\n",
    "***Input:***\n",
    "\n",
    "*S = “XY”*\n",
    "\n",
    "***Output:***\n",
    "\n",
    "*“XY”, “YX”*\n"
   ]
  },
  {
   "cell_type": "code",
   "execution_count": 47,
   "id": "5917b2a3",
   "metadata": {},
   "outputs": [],
   "source": [
    "def generatePermutations(s, left, right):\n",
    "    if left == right:\n",
    "        print(s)\n",
    "    else:\n",
    "        for i in range(left, right + 1):\n",
    "            s_list = list(s)\n",
    "            s_list[left], s_list[i] = s_list[i], s_list[left]\n",
    "            s = ''.join(s_list)\n",
    "            generatePermutations(s, left + 1, right)\n",
    "            s_list[left], s_list[i] = s_list[i], s_list[left]\n",
    "            s = ''.join(s_list)\n",
    "\n",
    "# Main function to generate permutations\n",
    "def printPermutations(S):\n",
    "    generatePermutations(S, 0, len(S) - 1)\n"
   ]
  },
  {
   "cell_type": "code",
   "execution_count": 48,
   "id": "2577011f",
   "metadata": {},
   "outputs": [
    {
     "name": "stdout",
     "output_type": "stream",
     "text": [
      "ABC\n",
      "ACB\n",
      "BAC\n",
      "BCA\n",
      "CBA\n",
      "CAB\n"
     ]
    }
   ],
   "source": [
    "S = \"ABC\"\n",
    "printPermutations(S)"
   ]
  },
  {
   "cell_type": "code",
   "execution_count": 49,
   "id": "b64e1a1e",
   "metadata": {},
   "outputs": [
    {
     "name": "stdout",
     "output_type": "stream",
     "text": [
      "XY\n",
      "YX\n"
     ]
    }
   ],
   "source": [
    "S = \"XY\"\n",
    "printPermutations(S)"
   ]
  },
  {
   "cell_type": "markdown",
   "id": "1716f2ed",
   "metadata": {},
   "source": [
    "**Question 8**\n",
    "\n",
    "Given an array, find a product of all array elements.\n",
    "\n",
    "**Example 1:**\n",
    "\n",
    "Input  : arr[] = {1, 2, 3, 4, 5}\n",
    "Output : 120\n",
    "**Example 2:**\n",
    "\n",
    "Input  : arr[] = {1, 6, 3}\n",
    "Output : 18\n"
   ]
  },
  {
   "cell_type": "code",
   "execution_count": 53,
   "id": "17769eef",
   "metadata": {},
   "outputs": [],
   "source": [
    "def findProduct(arr):\n",
    "    product = 1\n",
    "\n",
    "    for num in arr:\n",
    "        product *= num\n",
    "\n",
    "    return product\n"
   ]
  },
  {
   "cell_type": "code",
   "execution_count": 54,
   "id": "c4aced6b",
   "metadata": {},
   "outputs": [
    {
     "name": "stdout",
     "output_type": "stream",
     "text": [
      "120\n"
     ]
    }
   ],
   "source": [
    "arr = [1, 2, 3, 4, 5]\n",
    "result = findProduct(arr)\n",
    "print(result)"
   ]
  },
  {
   "cell_type": "code",
   "execution_count": 55,
   "id": "69bcffbd",
   "metadata": {},
   "outputs": [
    {
     "name": "stdout",
     "output_type": "stream",
     "text": [
      "18\n"
     ]
    }
   ],
   "source": [
    "arr = [1, 6, 3]\n",
    "result = findProduct(arr)\n",
    "print(result)"
   ]
  },
  {
   "cell_type": "code",
   "execution_count": null,
   "id": "01740eb4",
   "metadata": {},
   "outputs": [],
   "source": []
  }
 ],
 "metadata": {
  "kernelspec": {
   "display_name": "Python 3 (ipykernel)",
   "language": "python",
   "name": "python3"
  },
  "language_info": {
   "codemirror_mode": {
    "name": "ipython",
    "version": 3
   },
   "file_extension": ".py",
   "mimetype": "text/x-python",
   "name": "python",
   "nbconvert_exporter": "python",
   "pygments_lexer": "ipython3",
   "version": "3.9.13"
  }
 },
 "nbformat": 4,
 "nbformat_minor": 5
}
