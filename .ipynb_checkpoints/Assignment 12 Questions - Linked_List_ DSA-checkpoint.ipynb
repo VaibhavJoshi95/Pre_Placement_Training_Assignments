{
 "cells": [
  {
   "cell_type": "markdown",
   "id": "526426c8",
   "metadata": {},
   "source": [
    "**Question 1**\n",
    "\n",
    "Given a singly linked list, delete **middle** of the linked list. For example, if given linked list is 1->2->**3**->4->5 then linked list should be modified to 1->2->4->5.If there are **even** nodes, then there would be **two middle** nodes, we need to delete the second middle element. For example, if given linked list is 1->2->3->4->5->6 then it should be modified to 1->2->3->5->6.If the input linked list is NULL or has 1 node, then it should return NULL\n",
    "\n",
    "**Example 1:**\n",
    "\n",
    "```\n",
    "Input:\n",
    "LinkedList: 1->2->3->4->5\n",
    "Output:1 2 4 5\n",
    "\n",
    "```\n",
    "\n",
    "**Example 2:**\n",
    "\n",
    "```\n",
    "Input:\n",
    "LinkedList: 2->4->6->7->5->1\n",
    "Output:2 4 6 5 1\n",
    "```\n"
   ]
  },
  {
   "cell_type": "code",
   "execution_count": 1,
   "id": "ec0c7694",
   "metadata": {},
   "outputs": [],
   "source": [
    "class Node:\n",
    "    def __init__(self, data):\n",
    "        self.data = data\n",
    "        self.next = None\n",
    "\n",
    "\n",
    "def deleteMiddle(head):\n",
    "    # Check if the linked list is empty or has only one node\n",
    "    if head is None or head.next is None:\n",
    "        return None\n",
    "\n",
    "    slow = head\n",
    "    fast = head\n",
    "    prev = None\n",
    "\n",
    "    while fast is not None and fast.next is not None:\n",
    "        fast = fast.next.next\n",
    "        prev = slow\n",
    "        slow = slow.next\n",
    "\n",
    "    # Delete the second middle node for even-length linked lists\n",
    "    if prev is not None:\n",
    "        prev.next = slow.next\n",
    "    else:\n",
    "        # Delete the first (and only) middle node for odd-length linked lists\n",
    "        head = head.next\n",
    "\n",
    "    # Free the memory of the middle node(s)\n",
    "    slow.next = None\n",
    "\n",
    "    return head\n"
   ]
  },
  {
   "cell_type": "code",
   "execution_count": 4,
   "id": "c7d9d24e",
   "metadata": {},
   "outputs": [
    {
     "name": "stdout",
     "output_type": "stream",
     "text": [
      "1 2 4 5 "
     ]
    }
   ],
   "source": [
    "# Create the linked list: 1->2->3->4->5\n",
    "head = Node(1)\n",
    "head.next = Node(2)\n",
    "head.next.next = Node(3)\n",
    "head.next.next.next = Node(4)\n",
    "head.next.next.next.next = Node(5)\n",
    "\n",
    "# Delete the middle node(s)\n",
    "head = deleteMiddle(head)\n",
    "\n",
    "# Print the modified linked list\n",
    "current = head\n",
    "while current is not None:\n",
    "    print(current.data, end=\" \")\n",
    "    current = current.next\n"
   ]
  },
  {
   "cell_type": "code",
   "execution_count": null,
   "id": "7a82aa1e",
   "metadata": {},
   "outputs": [],
   "source": [
    "# Create the linked list: 2->4->6->7->5->1\n",
    "head = Node(1)\n",
    "head.next = Node(2)\n",
    "head.next.next = Node(3)\n",
    "head.next.next.next = Node(4)\n",
    "head.next.next.next.next = Node(5)\n",
    "\n",
    "# Delete the middle node(s)\n",
    "head = deleteMiddle(head)\n",
    "\n",
    "# Print the modified linked list\n",
    "current = head\n",
    "while current is not None:\n",
    "    print(current.data, end=\" \")\n",
    "    current = current.next\n"
   ]
  }
 ],
 "metadata": {
  "kernelspec": {
   "display_name": "Python 3 (ipykernel)",
   "language": "python",
   "name": "python3"
  },
  "language_info": {
   "codemirror_mode": {
    "name": "ipython",
    "version": 3
   },
   "file_extension": ".py",
   "mimetype": "text/x-python",
   "name": "python",
   "nbconvert_exporter": "python",
   "pygments_lexer": "ipython3",
   "version": "3.9.13"
  }
 },
 "nbformat": 4,
 "nbformat_minor": 5
}
