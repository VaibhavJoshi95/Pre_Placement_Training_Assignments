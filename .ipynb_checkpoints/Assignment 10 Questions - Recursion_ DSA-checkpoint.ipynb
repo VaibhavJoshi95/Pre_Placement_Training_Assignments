{
 "cells": [
  {
   "cell_type": "markdown",
   "id": "b7fb2ff5",
   "metadata": {},
   "source": [
    " **Question 1**\n",
    "\n",
    "Given an integer `n`, return *`true` if it is a power of three. Otherwise, return `false`*.\n",
    "\n",
    "An integer `n` is a power of three, if there exists an integer `x` such that `n == 3x`.\n",
    "\n",
    "**Example 1:**\n",
    "\n",
    "```\n",
    "Input: n = 27\n",
    "Output: true\n",
    "Explanation: 27 = 33\n",
    "```\n",
    "\n",
    "**Example 2:**\n",
    "\n",
    "```\n",
    "Input: n = 0\n",
    "Output: false\n",
    "Explanation: There is no x where 3x = 0.\n",
    "\n",
    "```\n",
    "\n",
    "**Example 3:**\n",
    "```\n",
    "Input: n = -1\n",
    "Output: false\n",
    "Explanation: There is no x where 3x = (-1).\n",
    "\n",
    "```"
   ]
  },
  {
   "cell_type": "code",
   "execution_count": 5,
   "id": "fbf74573",
   "metadata": {},
   "outputs": [],
   "source": [
    "import math\n",
    "\n",
    "def isPowerOfThree(n):\n",
    "    if n <= 0:\n",
    "        return False\n",
    "\n",
    "    power = math.log(n, 3)\n",
    "    return power.is_integer()\n"
   ]
  },
  {
   "cell_type": "code",
   "execution_count": 6,
   "id": "ffb81d79",
   "metadata": {},
   "outputs": [
    {
     "name": "stdout",
     "output_type": "stream",
     "text": [
      "True\n"
     ]
    }
   ],
   "source": [
    "n = 27\n",
    "result = isPowerOfThree(n)\n",
    "print(result)"
   ]
  },
  {
   "cell_type": "code",
   "execution_count": 7,
   "id": "63126085",
   "metadata": {},
   "outputs": [
    {
     "name": "stdout",
     "output_type": "stream",
     "text": [
      "False\n"
     ]
    }
   ],
   "source": [
    "n = 0\n",
    "result = isPowerOfThree(n)\n",
    "print(result)"
   ]
  },
  {
   "cell_type": "code",
   "execution_count": 8,
   "id": "6eb9a5d9",
   "metadata": {},
   "outputs": [
    {
     "name": "stdout",
     "output_type": "stream",
     "text": [
      "False\n"
     ]
    }
   ],
   "source": [
    "n = -1\n",
    "result = isPowerOfThree(n)\n",
    "print(result)"
   ]
  },
  {
   "cell_type": "markdown",
   "id": "794cbfae",
   "metadata": {},
   "source": [
    " **Question 2**\n",
    "\n",
    "You have a list `arr` of all integers in the range `[1, n]` sorted in a strictly increasing order. Apply the following algorithm on `arr`:\n",
    "\n",
    "- Starting from left to right, remove the first number and every other number afterward until you reach the end of the list.\n",
    "- Repeat the previous step again, but this time from right to left, remove the rightmost number and every other number from the remaining numbers.\n",
    "- Keep repeating the steps again, alternating left to right and right to left, until a single number remains.\n",
    "\n",
    "Given the integer `n`, return *the last number that remains in* `arr`.\n",
    "\n",
    "**Example 1:**\n",
    "\n",
    "```\n",
    "Input: n = 9\n",
    "Output: 6\n",
    "Explanation:\n",
    "arr = [1, 2,3, 4,5, 6,7, 8,9]\n",
    "arr = [2,4, 6,8]\n",
    "arr = [2, 6]\n",
    "arr = [6]\n",
    "\n",
    "```\n",
    "\n",
    "**Example 2:**\n",
    "```\n",
    "Input: n = 1\n",
    "Output: 1\n",
    "```"
   ]
  },
  {
   "cell_type": "code",
   "execution_count": 20,
   "id": "c6f3af67",
   "metadata": {},
   "outputs": [],
   "source": [
    "def lastRemaining(n):\n",
    "    arr = list(range(1, n + 1))\n",
    "    isLeftToRight = True\n",
    "\n",
    "    while len(arr) > 1:\n",
    "        if isLeftToRight:\n",
    "            arr = arr[1::2]\n",
    "        else:\n",
    "            arr = arr[:-1:2]\n",
    "        isLeftToRight = not isLeftToRight\n",
    "\n",
    "    return arr[0]\n"
   ]
  },
  {
   "cell_type": "code",
   "execution_count": 23,
   "id": "a25abcdb",
   "metadata": {},
   "outputs": [
    {
     "name": "stdout",
     "output_type": "stream",
     "text": [
      "6\n"
     ]
    }
   ],
   "source": [
    "n = 9\n",
    "result = lastRemaining(n)\n",
    "print(result) "
   ]
  },
  {
   "cell_type": "code",
   "execution_count": 24,
   "id": "c2d6d5ad",
   "metadata": {},
   "outputs": [
    {
     "name": "stdout",
     "output_type": "stream",
     "text": [
      "1\n"
     ]
    }
   ],
   "source": [
    "n = 1\n",
    "result = lastRemaining(n)\n",
    "print(result)"
   ]
  },
  {
   "cell_type": "markdown",
   "id": "4e0ee399",
   "metadata": {},
   "source": [
    " **Question 3**\n",
    "\n",
    "Given a set represented as a string, write a recursive code to print all subsets of it. The subsets can be printed in any order.\n",
    "\n",
    "**Example 1:**\n",
    "\n",
    "Input :  set = “abc”\n",
    "\n",
    "Output : { “”, “a”, “b”, “c”, “ab”, “ac”, “bc”, “abc”}\n",
    "\n",
    "**Example 2:**\n",
    "\n",
    "Input : set = “abcd”\n",
    "\n",
    "Output : { “”, “a” ,”ab” ,”abc” ,”abcd”, “abd” ,”ac” ,”acd”, “ad” ,”b”, “bc” ,”bcd” ,”bd” ,”c” ,”cd” ,”d” }\n"
   ]
  },
  {
   "cell_type": "code",
   "execution_count": 27,
   "id": "1a393d26",
   "metadata": {},
   "outputs": [],
   "source": [
    "def generateSubsets(set_str, current_subset, index, subsets):\n",
    "    if index == len(set_str):\n",
    "        subsets.append(current_subset)\n",
    "        return\n",
    "\n",
    "    # Include the character at index\n",
    "    generateSubsets(set_str, current_subset + set_str[index], index + 1, subsets)\n",
    "\n",
    "    # Exclude the character at index\n",
    "    generateSubsets(set_str, current_subset, index + 1, subsets)\n",
    "\n",
    "def printSubsets(set_str):\n",
    "    subsets = []\n",
    "    generateSubsets(set_str, \"\", 0, subsets)\n",
    "    print(subsets)\n"
   ]
  },
  {
   "cell_type": "code",
   "execution_count": 28,
   "id": "da2c2f58",
   "metadata": {},
   "outputs": [
    {
     "name": "stdout",
     "output_type": "stream",
     "text": [
      "['abc', 'ab', 'ac', 'a', 'bc', 'b', 'c', '']\n"
     ]
    }
   ],
   "source": [
    "set_str = \"abc\"\n",
    "printSubsets(set_str)\n"
   ]
  },
  {
   "cell_type": "code",
   "execution_count": 30,
   "id": "fbcdfcd9",
   "metadata": {},
   "outputs": [
    {
     "name": "stdout",
     "output_type": "stream",
     "text": [
      "['abcd', 'abc', 'abd', 'ab', 'acd', 'ac', 'ad', 'a', 'bcd', 'bc', 'bd', 'b', 'cd', 'c', 'd', '']\n"
     ]
    }
   ],
   "source": [
    "set_str = \"abcd\"\n",
    "printSubsets(set_str)"
   ]
  },
  {
   "cell_type": "markdown",
   "id": "b99c8868",
   "metadata": {},
   "source": [
    " **Question 4**\n",
    "\n",
    "Given a string calculate length of the string using recursion.\n",
    "\n",
    "**Examples:**\n",
    "```\n",
    "Input : str = \"abcd\"\n",
    "Output :4\n",
    "\n",
    "Input : str = \"GEEKSFORGEEKS\"\n",
    "    \n",
    "Output :13\n",
    "```"
   ]
  },
  {
   "cell_type": "code",
   "execution_count": 32,
   "id": "42ae5868",
   "metadata": {},
   "outputs": [],
   "source": [
    "def calculateLength(string, index):\n",
    "    if index == len(string):\n",
    "        return 0\n",
    "    \n",
    "    return 1 + calculateLength(string, index + 1)\n",
    "\n",
    "def lengthOfString(string):\n",
    "    return calculateLength(string, 0)\n"
   ]
  },
  {
   "cell_type": "code",
   "execution_count": 33,
   "id": "18d19d69",
   "metadata": {},
   "outputs": [
    {
     "name": "stdout",
     "output_type": "stream",
     "text": [
      "4\n"
     ]
    }
   ],
   "source": [
    "string1 = \"abcd\"\n",
    "print(lengthOfString(string1)) "
   ]
  },
  {
   "cell_type": "code",
   "execution_count": 34,
   "id": "3cfd41e4",
   "metadata": {},
   "outputs": [
    {
     "name": "stdout",
     "output_type": "stream",
     "text": [
      "13\n"
     ]
    }
   ],
   "source": [
    "string2 = \"GEEKSFORGEEKS\"\n",
    "print(lengthOfString(string2))\n"
   ]
  },
  {
   "cell_type": "markdown",
   "id": "0b47e7a4",
   "metadata": {},
   "source": [
    "**Question 5**\n",
    "\n",
    "We are given a string S, we need to find count of all contiguous substrings starting and ending with same character.\n",
    "\n",
    "**Examples :**\n",
    "```\n",
    "Input  : S = \"abcab\"\n",
    "Output : 7\n",
    "There are 15 substrings of \"abcab\"\n",
    "a, ab, abc, abca, abcab, b, bc, bca\n",
    "bcab, c, ca, cab, a, ab, b\n",
    "Out of the above substrings, there\n",
    "are 7 substrings : a, abca, b, bcab,\n",
    "c, a and b.\n",
    "\n",
    "Input  : S = \"aba\"\n",
    "Output : 4\n",
    "The substrings are a, b, a and aba\n",
    "```"
   ]
  },
  {
   "cell_type": "code",
   "execution_count": 39,
   "id": "64add381",
   "metadata": {},
   "outputs": [],
   "source": [
    "def countContiguousSubstrings(S):\n",
    "    count = 0\n",
    "    for i in range(len(S)):\n",
    "        for j in range(i, len(S)):\n",
    "            if S[i] == S[j]:\n",
    "                count += 1\n",
    "    return count"
   ]
  },
  {
   "cell_type": "code",
   "execution_count": 40,
   "id": "e7caf740",
   "metadata": {},
   "outputs": [
    {
     "name": "stdout",
     "output_type": "stream",
     "text": [
      "7\n"
     ]
    }
   ],
   "source": [
    "S = \"abcab\"\n",
    "print(countContiguousSubstrings(S))"
   ]
  },
  {
   "cell_type": "code",
   "execution_count": 41,
   "id": "92b1de41",
   "metadata": {},
   "outputs": [
    {
     "name": "stdout",
     "output_type": "stream",
     "text": [
      "4\n"
     ]
    }
   ],
   "source": [
    "S = \"aba\"\n",
    "print(countContiguousSubstrings(S))"
   ]
  },
  {
   "cell_type": "markdown",
   "id": "e2bbee27",
   "metadata": {},
   "source": [
    " **Question 6**\n",
    "\n",
    "The [tower of Hanoi](https://en.wikipedia.org/wiki/Tower_of_Hanoi) is a famous puzzle where we have three rods and **N** disks. The objective of the puzzle is to move the entire stack to another rod. You are given the number of discs **N**. Initially, these discs are in the rod 1. You need to print all the steps of discs movement so that all the discs reach the 3rd rod. Also, you need to find the total moves.**Note:** The discs are arranged such that the **top disc is numbered 1** and the **bottom-most disc is numbered N**. Also, all the discs have **different sizes** and a bigger disc **cannot** be put on the top of a smaller disc. Refer the provided link to get a better clarity about the puzzle.\n",
    "\n",
    "**Example 1:**\n",
    "```\n",
    "Input:\n",
    "N = 2\n",
    "Output:\n",
    "move disk 1 from rod 1 to rod 2\n",
    "move disk 2 from rod 1 to rod 3\n",
    "move disk 1 from rod 2 to rod 3\n",
    "3\n",
    "Explanation:For N=2 , steps will be\n",
    "as follows in the example and total\n",
    "3 steps will be taken.\n",
    "```\n",
    "**Example 2:**\n",
    "```\n",
    "Input:\n",
    "N = 3\n",
    "Output:\n",
    "move disk 1 from rod 1 to rod 3\n",
    "move disk 2 from rod 1 to rod 2\n",
    "move disk 1 from rod 3 to rod 2\n",
    "move disk 3 from rod 1 to rod 3\n",
    "move disk 1 from rod 2 to rod 1\n",
    "move disk 2 from rod 2 to rod 3\n",
    "move disk 1 from rod 1 to rod 3\n",
    "7\n",
    "Explanation:For N=3 , steps will be\n",
    "as follows in the example and total\n",
    "7 steps will be taken.\n",
    "```\n"
   ]
  },
  {
   "cell_type": "code",
   "execution_count": 53,
   "id": "0483cd41",
   "metadata": {},
   "outputs": [],
   "source": [
    "def towerOfHanoi(N, source, destination, auxiliary):\n",
    "    if N == 1:\n",
    "        print(f\"move disk 1 from rod {source} to rod {destination}\")\n",
    "        return 1\n",
    "\n",
    "    moves = towerOfHanoi(N - 1, source, auxiliary, destination)\n",
    "    print(f\"move disk {N} from rod {source} to rod {destination}\")\n",
    "    moves += 1\n",
    "    moves += towerOfHanoi(N - 1, auxiliary, destination, source)\n",
    "    \n",
    "    return moves\n"
   ]
  },
  {
   "cell_type": "code",
   "execution_count": 54,
   "id": "94f023d0",
   "metadata": {},
   "outputs": [
    {
     "name": "stdout",
     "output_type": "stream",
     "text": [
      "move disk 1 from rod 1 to rod 2\n",
      "move disk 2 from rod 1 to rod 3\n",
      "move disk 1 from rod 2 to rod 3\n",
      "3\n"
     ]
    }
   ],
   "source": [
    "N = 2\n",
    "total_moves = towerOfHanoi(N, 1, 3, 2)\n",
    "print(total_moves) "
   ]
  },
  {
   "cell_type": "code",
   "execution_count": 55,
   "id": "3c2d7209",
   "metadata": {},
   "outputs": [
    {
     "name": "stdout",
     "output_type": "stream",
     "text": [
      "move disk 1 from rod 1 to rod 3\n",
      "move disk 2 from rod 1 to rod 2\n",
      "move disk 1 from rod 3 to rod 2\n",
      "move disk 3 from rod 1 to rod 3\n",
      "move disk 1 from rod 2 to rod 1\n",
      "move disk 2 from rod 2 to rod 3\n",
      "move disk 1 from rod 1 to rod 3\n",
      "7\n"
     ]
    }
   ],
   "source": [
    "N = 3\n",
    "total_moves = towerOfHanoi(N, 1, 3, 2)\n",
    "print(total_moves) "
   ]
  },
  {
   "cell_type": "markdown",
   "id": "fdc83e7b",
   "metadata": {},
   "source": [
    "**Question 7**\n",
    "\n",
    "Given a string **str**, the task is to print all the permutations of **str**. A **permutation** is an arrangement of all or part of a set of objects, with regard to the order of the arrangement. For instance, the words ‘bat’ and ‘tab’ represents two distinct permutation (or arrangements) of a similar three letter word.\n",
    "\n",
    "**Examples:**\n",
    "\n",
    "> Input: str = “cd”\n",
    "> \n",
    "> \n",
    "> **Output:** cd dc\n",
    "> \n",
    "> **Input:** str = “abb”\n",
    "> \n",
    "> **Output:** abb abb bab bba bab bba\n"
   ]
  },
  {
   "cell_type": "code",
   "execution_count": 56,
   "id": "696f1a18",
   "metadata": {},
   "outputs": [],
   "source": [
    "def permute(string, left, right):\n",
    "    if left == right:\n",
    "        print(''.join(string))\n",
    "\n",
    "    for i in range(left, right + 1):\n",
    "        string[left], string[i] = string[i], string[left]  # Swap\n",
    "        permute(string, left + 1, right)  # Recurse\n",
    "        string[left], string[i] = string[i], string[left]  # Undo swap\n"
   ]
  },
  {
   "cell_type": "code",
   "execution_count": 57,
   "id": "9814d428",
   "metadata": {},
   "outputs": [
    {
     "name": "stdout",
     "output_type": "stream",
     "text": [
      "cd\n",
      "dc\n"
     ]
    }
   ],
   "source": [
    "str = \"cd\"\n",
    "permute(list(str), 0, len(str) - 1)"
   ]
  },
  {
   "cell_type": "code",
   "execution_count": 58,
   "id": "476daf17",
   "metadata": {},
   "outputs": [
    {
     "name": "stdout",
     "output_type": "stream",
     "text": [
      "abb\n",
      "abb\n",
      "bab\n",
      "bba\n",
      "bba\n",
      "bab\n"
     ]
    }
   ],
   "source": [
    "str = \"abb\"\n",
    "permute(list(str), 0, len(str) - 1)"
   ]
  },
  {
   "cell_type": "markdown",
   "id": "44faf83c",
   "metadata": {},
   "source": [
    "**Question 8**\n",
    "\n",
    "Given a string, count total number of consonants in it. A consonant is an English alphabet character that is not vowel (a, e, i, o and u). Examples of constants are b, c, d, f, and g.\n",
    "\n",
    "**Examples :**\n",
    "\n",
    "```\n",
    "Input : abc de\n",
    "Output : 3\n",
    "There are three consonants b, c and d.\n",
    "\n",
    "Input : geeksforgeeks portal\n",
    "Output : 12\n",
    "```"
   ]
  },
  {
   "cell_type": "code",
   "execution_count": 62,
   "id": "105aebf0",
   "metadata": {},
   "outputs": [],
   "source": [
    "def countConsonants(string):\n",
    "    consonants = 'bcdfghjklmnpqrstvwxyzBCDFGHJKLMNPQRSTVWXYZ'  # List of consonant characters\n",
    "    count = 0\n",
    "\n",
    "    for char in string:\n",
    "        if char in consonants:\n",
    "            count += 1\n",
    "\n",
    "    return count"
   ]
  },
  {
   "cell_type": "code",
   "execution_count": 63,
   "id": "6497680a",
   "metadata": {},
   "outputs": [
    {
     "name": "stdout",
     "output_type": "stream",
     "text": [
      "3\n"
     ]
    }
   ],
   "source": [
    "string = \"abc de\"\n",
    "consonant_count = countConsonants(string)\n",
    "print(consonant_count)"
   ]
  },
  {
   "cell_type": "code",
   "execution_count": 64,
   "id": "e3db1327",
   "metadata": {},
   "outputs": [
    {
     "name": "stdout",
     "output_type": "stream",
     "text": [
      "12\n"
     ]
    }
   ],
   "source": [
    "string = \"geeksforgeeks portal\"\n",
    "consonant_count = countConsonants(string)\n",
    "print(consonant_count)"
   ]
  },
  {
   "cell_type": "code",
   "execution_count": null,
   "id": "0c015b8b",
   "metadata": {},
   "outputs": [],
   "source": []
  }
 ],
 "metadata": {
  "kernelspec": {
   "display_name": "Python 3 (ipykernel)",
   "language": "python",
   "name": "python3"
  },
  "language_info": {
   "codemirror_mode": {
    "name": "ipython",
    "version": 3
   },
   "file_extension": ".py",
   "mimetype": "text/x-python",
   "name": "python",
   "nbconvert_exporter": "python",
   "pygments_lexer": "ipython3",
   "version": "3.9.13"
  }
 },
 "nbformat": 4,
 "nbformat_minor": 5
}
