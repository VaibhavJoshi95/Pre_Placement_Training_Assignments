{
 "cells": [
  {
   "cell_type": "code",
   "execution_count": 7,
   "id": "f03470df",
   "metadata": {},
   "outputs": [],
   "source": [
    "def firstUniqChar(s):\n",
    "    char_freq = {}  # Initialize the hashmap\n",
    "\n",
    "    # Update the frequency of each character\n",
    "    for char in s:\n",
    "        char_freq[char] = char_freq.get(char, 0) + 1\n",
    "\n",
    "    # Find the first non-repeating character\n",
    "    for i, char in enumerate(s):\n",
    "        if char_freq[char] == 1:\n",
    "            return i\n",
    "\n",
    "    return -1  # No non-repeating character found\n"
   ]
  },
  {
   "cell_type": "code",
   "execution_count": 8,
   "id": "a3ed6924",
   "metadata": {},
   "outputs": [
    {
     "name": "stdout",
     "output_type": "stream",
     "text": [
      "0\n"
     ]
    }
   ],
   "source": [
    "# Test the function with example inputs\n",
    "s = \"leetcode\"\n",
    "print(firstUniqChar(s))"
   ]
  },
  {
   "cell_type": "code",
   "execution_count": 9,
   "id": "62fbf5f9",
   "metadata": {},
   "outputs": [
    {
     "name": "stdout",
     "output_type": "stream",
     "text": [
      "2\n"
     ]
    }
   ],
   "source": [
    "s = \"loveleetcode\"\n",
    "print(firstUniqChar(s))"
   ]
  },
  {
   "cell_type": "code",
   "execution_count": 10,
   "id": "48736fee",
   "metadata": {},
   "outputs": [
    {
     "name": "stdout",
     "output_type": "stream",
     "text": [
      "-1\n"
     ]
    }
   ],
   "source": [
    "s = \"aabb\"\n",
    "print(firstUniqChar(s))"
   ]
  },
  {
   "cell_type": "code",
   "execution_count": null,
   "id": "79e09c98",
   "metadata": {},
   "outputs": [],
   "source": []
  }
 ],
 "metadata": {
  "kernelspec": {
   "display_name": "Python 3 (ipykernel)",
   "language": "python",
   "name": "python3"
  },
  "language_info": {
   "codemirror_mode": {
    "name": "ipython",
    "version": 3
   },
   "file_extension": ".py",
   "mimetype": "text/x-python",
   "name": "python",
   "nbconvert_exporter": "python",
   "pygments_lexer": "ipython3",
   "version": "3.9.13"
  }
 },
 "nbformat": 4,
 "nbformat_minor": 5
}
